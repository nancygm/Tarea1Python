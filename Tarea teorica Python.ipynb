{
 "cells": [
  {
   "attachments": {},
   "cell_type": "markdown",
   "metadata": {},
   "source": [
    "Tarea\n",
    "\n",
    "- Funciones en Python\n",
    "\n",
    "Bloque de codigo con el fin de recibir parametros de entrada, estos parametros pasan dentro de un proceso que va paso a paso en la funcion y devuelve un dato. Sigue una secuencia que por lo general es estandar, en el sentido que podria ser utilizada varias veces y por lo tanto se genera la funcion. Puede ser llamada varias veces y los parametros pueden ser cambiados y obtener diversos resultados. \n",
    "\n",
    "- parametros posisionales\n",
    "\n",
    "Los parametros posisionales hacen referencia a los parametros que son utilizadas en las funciones. Se denominan posisionales debido que a la hora de colocarlos en la funcion si tienen que ir en la posision indicada para que al ingresar a la funcion sea tomado como el valor correcto y se hagan los calculos de forma correcta.\n",
    "\n",
    "- parametros nombrados\n",
    "\n",
    "Los parametros nombrados tienen la misma funcion que los parametros posicionales, la diferencia es que en estos solo al nombrarse en la funcion ej: func(par1 = 0, par2= 3, par3 = 5) ya la funcion sabra a que parametro se esta refiriendo. \n",
    "\n",
    "- retorno de multiples valores\n",
    "El retorno de multiple valores se puede dar en una funcion a la hora de colocar return al final de la funcion. Estos parametros los manda en una lista y pueden ser guardados para luego ser usados.\n",
    "Ejemplo: return respuesta1, respuesta2. \n",
    "\n",
    "- funciones como objetos y como parametros de otras funciones\n",
    "\n",
    "Las funciones como objetos son para representar algun objeto en especifico, con este fin podemos diseñar por ejemplo un motor y mandarle los parametros que siempre seran requeridos para la creacion de un motor. \n",
    "Las funciones como parametros de otras funciones es tomar una funcion como un parametro ya que al escribir una funcion y mandarle datos, estamos obteniendo un valor de dicha funcion la cual podria ser utilizada como parametro de otra funcion para poder obtener otro valor de otra funcion. func(func1(a,b),c) donde a = 2, b = 3 y c = 5.\n",
    "\n",
    "- funciones anonimas o lambda\n",
    "\n",
    "Se trata de la creacion de funciones de manera rapida sobre la marcha, es decir son para hacer calculos rapidos y ligeros. Estas tambien son funciones lambda. b = lambda x, y: x + y\n",
    "\n",
    "\n"
   ]
  },
  {
   "cell_type": "code",
   "execution_count": null,
   "metadata": {},
   "outputs": [],
   "source": []
  }
 ],
 "metadata": {
  "kernelspec": {
   "display_name": "Python 3",
   "language": "python",
   "name": "python3"
  },
  "language_info": {
   "codemirror_mode": {
    "name": "ipython",
    "version": 3
   },
   "file_extension": ".py",
   "mimetype": "text/x-python",
   "name": "python",
   "nbconvert_exporter": "python",
   "pygments_lexer": "ipython3",
   "version": "3.7.2"
  }
 },
 "nbformat": 4,
 "nbformat_minor": 2
}
